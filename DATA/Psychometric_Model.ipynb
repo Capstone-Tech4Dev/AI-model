{
  "cells": [
    {
      "cell_type": "markdown",
      "metadata": {
        "id": "03m674wU2bJm"
      },
      "source": [
        "# **PSYCHOMETRIC MODEL**\n"
      ]
    },
    {
      "cell_type": "code",
      "execution_count": 1,
      "metadata": {
        "id": "M6QbtMCYwxUV"
      },
      "outputs": [],
      "source": [
        "# installing the necessary library\n",
        "import pandas as pd\n",
        "import numpy as  np\n",
        "from sklearn.model_selection import train_test_split, GridSearchCV, RandomizedSearchCV\n",
        "from sklearn.preprocessing import LabelEncoder\n",
        "from sklearn.ensemble import RandomForestClassifier, GradientBoostingClassifier\n",
        "from sklearn.tree import DecisionTreeClassifier\n",
        "from sklearn.neighbors import KNeighborsClassifier\n",
        "from sklearn.svm import SVC\n",
        "from sklearn.linear_model import LogisticRegression\n",
        "from sklearn.naive_bayes import MultinomialNB\n",
        "from imblearn.over_sampling import RandomOverSampler\n",
        "from sklearn.metrics import accuracy_score, classification_report, confusion_matrix\n",
        "import os\n",
        "import joblib\n",
        "from joblib import dump,load"
      ]
    },
    {
      "cell_type": "code",
      "execution_count": 2,
      "metadata": {},
      "outputs": [],
      "source": [
        "# Getting the file path\n",
        "def get_filepath(sub_dir,filename):\n",
        "    base_dir = os.getcwd()\n",
        "    full_path = os.path.join(base_dir, sub_dir,filename)\n",
        "    return full_path"
      ]
    },
    {
      "cell_type": "code",
      "execution_count": 3,
      "metadata": {},
      "outputs": [],
      "source": [
        "# Reading in the file\n",
        "\n",
        "filepath = get_filepath(\"DATA\", \"Data_Psychometric_1000_updated.csv\")\n",
        "df = pd.read_csv(filepath)"
      ]
    },
    {
      "cell_type": "code",
      "execution_count": 4,
      "metadata": {
        "id": "n0UuCv6t2_xg"
      },
      "outputs": [],
      "source": [
        "# df = pd.read_csv('/content/Data_Psychometric_1000 (2).csv')"
      ]
    },
    {
      "cell_type": "code",
      "execution_count": 5,
      "metadata": {
        "colab": {
          "base_uri": "https://localhost:8080/",
          "height": 417
        },
        "id": "U5aQmC2c2_oE",
        "outputId": "abc95131-33eb-4cb8-b418-b3cc8b8a951d"
      },
      "outputs": [
        {
          "data": {
            "text/html": [
              "<div>\n",
              "<style scoped>\n",
              "    .dataframe tbody tr th:only-of-type {\n",
              "        vertical-align: middle;\n",
              "    }\n",
              "\n",
              "    .dataframe tbody tr th {\n",
              "        vertical-align: top;\n",
              "    }\n",
              "\n",
              "    .dataframe thead th {\n",
              "        text-align: right;\n",
              "    }\n",
              "</style>\n",
              "<table border=\"1\" class=\"dataframe\">\n",
              "  <thead>\n",
              "    <tr style=\"text-align: right;\">\n",
              "      <th></th>\n",
              "      <th>Mathematical Aptitude</th>\n",
              "      <th>Logical Reasoning</th>\n",
              "      <th>Openness</th>\n",
              "      <th>Conscientiousness</th>\n",
              "      <th>Emotional Stability</th>\n",
              "      <th>Agreeableness/ Assertiveness</th>\n",
              "      <th>Creativity</th>\n",
              "      <th>Aptitude</th>\n",
              "      <th>Programming</th>\n",
              "      <th>Design Software</th>\n",
              "      <th>3D Skills</th>\n",
              "      <th>Web Development Confidence</th>\n",
              "      <th>Suggested Tracks</th>\n",
              "    </tr>\n",
              "  </thead>\n",
              "  <tbody>\n",
              "    <tr>\n",
              "      <th>0</th>\n",
              "      <td>Average</td>\n",
              "      <td>Excellent</td>\n",
              "      <td>Open</td>\n",
              "      <td>Moderate</td>\n",
              "      <td>Calm</td>\n",
              "      <td>In-Between</td>\n",
              "      <td>Creative</td>\n",
              "      <td>Moderately Techincally Inclined</td>\n",
              "      <td>Advanced</td>\n",
              "      <td>Proficient</td>\n",
              "      <td>Not Experienced</td>\n",
              "      <td>Highly Confident</td>\n",
              "      <td>Product Management</td>\n",
              "    </tr>\n",
              "    <tr>\n",
              "      <th>1</th>\n",
              "      <td>Excellent</td>\n",
              "      <td>Bad</td>\n",
              "      <td>Somewhat Open</td>\n",
              "      <td>Not</td>\n",
              "      <td>Calm</td>\n",
              "      <td>Not Cooperative</td>\n",
              "      <td>Not Creative</td>\n",
              "      <td>Moderately Techincally Inclined</td>\n",
              "      <td>Advanced</td>\n",
              "      <td>Not Proficient</td>\n",
              "      <td>Not Experienced</td>\n",
              "      <td>Moderately Confident</td>\n",
              "      <td>Blockchain</td>\n",
              "    </tr>\n",
              "    <tr>\n",
              "      <th>2</th>\n",
              "      <td>Bad</td>\n",
              "      <td>Excellent</td>\n",
              "      <td>Not Open</td>\n",
              "      <td>Not</td>\n",
              "      <td>Overwhelmed</td>\n",
              "      <td>In-Between</td>\n",
              "      <td>Highly Creative</td>\n",
              "      <td>Not Technically Inclined</td>\n",
              "      <td>Advanced</td>\n",
              "      <td>Not Proficient</td>\n",
              "      <td>Highly Experienced</td>\n",
              "      <td>Moderately Confident</td>\n",
              "      <td>Blockchain</td>\n",
              "    </tr>\n",
              "    <tr>\n",
              "      <th>3</th>\n",
              "      <td>Bad</td>\n",
              "      <td>Excellent</td>\n",
              "      <td>Not Open</td>\n",
              "      <td>Not</td>\n",
              "      <td>Overwhelmed</td>\n",
              "      <td>Cooperative</td>\n",
              "      <td>Not Creative</td>\n",
              "      <td>Technically Inclined</td>\n",
              "      <td>Basic</td>\n",
              "      <td>Not Proficient</td>\n",
              "      <td>Highly Experienced</td>\n",
              "      <td>Not Confident</td>\n",
              "      <td>Blockchain</td>\n",
              "    </tr>\n",
              "    <tr>\n",
              "      <th>4</th>\n",
              "      <td>Excellent</td>\n",
              "      <td>Bad</td>\n",
              "      <td>Not Open</td>\n",
              "      <td>Moderate</td>\n",
              "      <td>Calm</td>\n",
              "      <td>In-Between</td>\n",
              "      <td>Not Creative</td>\n",
              "      <td>Moderately Techincally Inclined</td>\n",
              "      <td>Basic</td>\n",
              "      <td>Not Proficient</td>\n",
              "      <td>Moderately Experienced</td>\n",
              "      <td>Not Confident</td>\n",
              "      <td>Blockchain</td>\n",
              "    </tr>\n",
              "  </tbody>\n",
              "</table>\n",
              "</div>"
            ],
            "text/plain": [
              "  Mathematical Aptitude Logical Reasoning       Openness Conscientiousness  \\\n",
              "0               Average         Excellent           Open          Moderate   \n",
              "1             Excellent               Bad  Somewhat Open               Not   \n",
              "2                   Bad         Excellent       Not Open               Not   \n",
              "3                   Bad         Excellent       Not Open               Not   \n",
              "4             Excellent               Bad       Not Open          Moderate   \n",
              "\n",
              "  Emotional Stability Agreeableness/ Assertiveness       Creativity  \\\n",
              "0                Calm                   In-Between         Creative   \n",
              "1                Calm              Not Cooperative     Not Creative   \n",
              "2         Overwhelmed                   In-Between  Highly Creative   \n",
              "3         Overwhelmed                  Cooperative     Not Creative   \n",
              "4                Calm                   In-Between     Not Creative   \n",
              "\n",
              "                          Aptitude Programming Design Software  \\\n",
              "0  Moderately Techincally Inclined    Advanced      Proficient   \n",
              "1  Moderately Techincally Inclined    Advanced  Not Proficient   \n",
              "2         Not Technically Inclined    Advanced  Not Proficient   \n",
              "3             Technically Inclined       Basic  Not Proficient   \n",
              "4  Moderately Techincally Inclined       Basic  Not Proficient   \n",
              "\n",
              "                3D Skills Web Development Confidence    Suggested Tracks  \n",
              "0         Not Experienced           Highly Confident  Product Management  \n",
              "1         Not Experienced       Moderately Confident          Blockchain  \n",
              "2      Highly Experienced       Moderately Confident          Blockchain  \n",
              "3      Highly Experienced              Not Confident          Blockchain  \n",
              "4  Moderately Experienced              Not Confident          Blockchain  "
            ]
          },
          "execution_count": 5,
          "metadata": {},
          "output_type": "execute_result"
        }
      ],
      "source": [
        "#printing the first 5 columns\n",
        "df.head()"
      ]
    },
    {
      "cell_type": "code",
      "execution_count": 6,
      "metadata": {
        "colab": {
          "base_uri": "https://localhost:8080/"
        },
        "id": "-TGTn-iF2_fm",
        "outputId": "a58d29a3-b67d-436d-fc56-e19d74203296"
      },
      "outputs": [
        {
          "data": {
            "text/plain": [
              "(1000, 13)"
            ]
          },
          "execution_count": 6,
          "metadata": {},
          "output_type": "execute_result"
        }
      ],
      "source": [
        "#the shape of the data\n",
        "df.shape"
      ]
    },
    {
      "cell_type": "code",
      "execution_count": 7,
      "metadata": {
        "colab": {
          "base_uri": "https://localhost:8080/"
        },
        "id": "mskUALso3L-c",
        "outputId": "4de25ba9-1a17-4537-cecf-03324b235b3e"
      },
      "outputs": [
        {
          "name": "stdout",
          "output_type": "stream",
          "text": [
            "<class 'pandas.core.frame.DataFrame'>\n",
            "RangeIndex: 1000 entries, 0 to 999\n",
            "Data columns (total 13 columns):\n",
            " #   Column                        Non-Null Count  Dtype \n",
            "---  ------                        --------------  ----- \n",
            " 0   Mathematical Aptitude         1000 non-null   object\n",
            " 1   Logical Reasoning             1000 non-null   object\n",
            " 2   Openness                      1000 non-null   object\n",
            " 3   Conscientiousness             1000 non-null   object\n",
            " 4   Emotional Stability           1000 non-null   object\n",
            " 5   Agreeableness/ Assertiveness  1000 non-null   object\n",
            " 6   Creativity                    1000 non-null   object\n",
            " 7   Aptitude                      1000 non-null   object\n",
            " 8   Programming                   1000 non-null   object\n",
            " 9   Design Software               1000 non-null   object\n",
            " 10  3D Skills                     1000 non-null   object\n",
            " 11  Web Development Confidence    1000 non-null   object\n",
            " 12  Suggested Tracks              1000 non-null   object\n",
            "dtypes: object(13)\n",
            "memory usage: 101.7+ KB\n"
          ]
        }
      ],
      "source": [
        "#printing the general information about the data\n",
        "df.info()"
      ]
    },
    {
      "cell_type": "code",
      "execution_count": 8,
      "metadata": {
        "colab": {
          "base_uri": "https://localhost:8080/",
          "height": 247
        },
        "id": "PAQ6Pv8H3NVN",
        "outputId": "4b253114-090d-4d9a-effd-feab5669ac09"
      },
      "outputs": [
        {
          "data": {
            "text/html": [
              "<div>\n",
              "<style scoped>\n",
              "    .dataframe tbody tr th:only-of-type {\n",
              "        vertical-align: middle;\n",
              "    }\n",
              "\n",
              "    .dataframe tbody tr th {\n",
              "        vertical-align: top;\n",
              "    }\n",
              "\n",
              "    .dataframe thead th {\n",
              "        text-align: right;\n",
              "    }\n",
              "</style>\n",
              "<table border=\"1\" class=\"dataframe\">\n",
              "  <thead>\n",
              "    <tr style=\"text-align: right;\">\n",
              "      <th></th>\n",
              "      <th>Mathematical Aptitude</th>\n",
              "      <th>Logical Reasoning</th>\n",
              "      <th>Openness</th>\n",
              "      <th>Conscientiousness</th>\n",
              "      <th>Emotional Stability</th>\n",
              "      <th>Agreeableness/ Assertiveness</th>\n",
              "      <th>Creativity</th>\n",
              "      <th>Aptitude</th>\n",
              "      <th>Programming</th>\n",
              "      <th>Design Software</th>\n",
              "      <th>3D Skills</th>\n",
              "      <th>Web Development Confidence</th>\n",
              "      <th>Suggested Tracks</th>\n",
              "    </tr>\n",
              "  </thead>\n",
              "  <tbody>\n",
              "    <tr>\n",
              "      <th>count</th>\n",
              "      <td>1000</td>\n",
              "      <td>1000</td>\n",
              "      <td>1000</td>\n",
              "      <td>1000</td>\n",
              "      <td>1000</td>\n",
              "      <td>1000</td>\n",
              "      <td>1000</td>\n",
              "      <td>1000</td>\n",
              "      <td>1000</td>\n",
              "      <td>1000</td>\n",
              "      <td>1000</td>\n",
              "      <td>1000</td>\n",
              "      <td>1000</td>\n",
              "    </tr>\n",
              "    <tr>\n",
              "      <th>unique</th>\n",
              "      <td>3</td>\n",
              "      <td>3</td>\n",
              "      <td>3</td>\n",
              "      <td>3</td>\n",
              "      <td>3</td>\n",
              "      <td>3</td>\n",
              "      <td>3</td>\n",
              "      <td>3</td>\n",
              "      <td>3</td>\n",
              "      <td>3</td>\n",
              "      <td>3</td>\n",
              "      <td>3</td>\n",
              "      <td>5</td>\n",
              "    </tr>\n",
              "    <tr>\n",
              "      <th>top</th>\n",
              "      <td>Excellent</td>\n",
              "      <td>Bad</td>\n",
              "      <td>Open</td>\n",
              "      <td>Moderate</td>\n",
              "      <td>Overwhelmed</td>\n",
              "      <td>In-Between</td>\n",
              "      <td>Creative</td>\n",
              "      <td>Technically Inclined</td>\n",
              "      <td>Intermediate</td>\n",
              "      <td>Highly Proficient</td>\n",
              "      <td>Not Experienced</td>\n",
              "      <td>Highly Confident</td>\n",
              "      <td>Blockchain</td>\n",
              "    </tr>\n",
              "    <tr>\n",
              "      <th>freq</th>\n",
              "      <td>345</td>\n",
              "      <td>351</td>\n",
              "      <td>341</td>\n",
              "      <td>360</td>\n",
              "      <td>340</td>\n",
              "      <td>348</td>\n",
              "      <td>357</td>\n",
              "      <td>357</td>\n",
              "      <td>348</td>\n",
              "      <td>341</td>\n",
              "      <td>347</td>\n",
              "      <td>340</td>\n",
              "      <td>556</td>\n",
              "    </tr>\n",
              "  </tbody>\n",
              "</table>\n",
              "</div>"
            ],
            "text/plain": [
              "       Mathematical Aptitude Logical Reasoning Openness Conscientiousness  \\\n",
              "count                   1000              1000     1000              1000   \n",
              "unique                     3                 3        3                 3   \n",
              "top                Excellent               Bad     Open          Moderate   \n",
              "freq                     345               351      341               360   \n",
              "\n",
              "       Emotional Stability Agreeableness/ Assertiveness Creativity  \\\n",
              "count                 1000                         1000       1000   \n",
              "unique                   3                            3          3   \n",
              "top            Overwhelmed                   In-Between   Creative   \n",
              "freq                   340                          348        357   \n",
              "\n",
              "                    Aptitude   Programming    Design Software  \\\n",
              "count                   1000          1000               1000   \n",
              "unique                     3             3                  3   \n",
              "top     Technically Inclined  Intermediate  Highly Proficient   \n",
              "freq                     357           348                341   \n",
              "\n",
              "              3D Skills Web Development Confidence Suggested Tracks  \n",
              "count              1000                       1000             1000  \n",
              "unique                3                          3                5  \n",
              "top     Not Experienced           Highly Confident       Blockchain  \n",
              "freq                347                        340              556  "
            ]
          },
          "execution_count": 8,
          "metadata": {},
          "output_type": "execute_result"
        }
      ],
      "source": [
        "# General description of the columns\n",
        "df.describe()"
      ]
    },
    {
      "cell_type": "code",
      "execution_count": 9,
      "metadata": {
        "colab": {
          "base_uri": "https://localhost:8080/"
        },
        "id": "6aZrfy3h3OxN",
        "outputId": "8c7b2cff-1f86-4ea7-d51c-d3e0ea69b26a"
      },
      "outputs": [
        {
          "data": {
            "text/plain": [
              "Mathematical Aptitude           0\n",
              "Logical Reasoning               0\n",
              "Openness                        0\n",
              "Conscientiousness               0\n",
              "Emotional Stability             0\n",
              "Agreeableness/ Assertiveness    0\n",
              "Creativity                      0\n",
              "Aptitude                        0\n",
              "Programming                     0\n",
              "Design Software                 0\n",
              "3D Skills                       0\n",
              "Web Development Confidence      0\n",
              "Suggested Tracks                0\n",
              "dtype: int64"
            ]
          },
          "execution_count": 9,
          "metadata": {},
          "output_type": "execute_result"
        }
      ],
      "source": [
        "# Checking for null values\n",
        "df.isnull().sum()"
      ]
    },
    {
      "cell_type": "code",
      "execution_count": 10,
      "metadata": {
        "colab": {
          "base_uri": "https://localhost:8080/"
        },
        "id": "bNVBKOdyyHd7",
        "outputId": "b491e5cb-2506-420a-ab68-a3891efbf427"
      },
      "outputs": [
        {
          "data": {
            "text/plain": [
              "array(['Moderately Techincally Inclined', 'Not Technically Inclined',\n",
              "       'Technically Inclined'], dtype=object)"
            ]
          },
          "execution_count": 10,
          "metadata": {},
          "output_type": "execute_result"
        }
      ],
      "source": [
        "df['Aptitude'].unique()"
      ]
    },
    {
      "cell_type": "code",
      "execution_count": 11,
      "metadata": {
        "id": "Q921IYceFFI_"
      },
      "outputs": [],
      "source": [
        "# Duplicating the data to make use of the copy df2\n",
        "df2 = df"
      ]
    },
    {
      "cell_type": "code",
      "execution_count": 12,
      "metadata": {
        "id": "AKWAbs-tFI4W"
      },
      "outputs": [],
      "source": [
        "#splitting the data into Feature `X` and Target `y`\n",
        "X = df.drop(columns=[\"Suggested Tracks\"])\n",
        "y = df[\"Suggested Tracks\"]"
      ]
    },
    {
      "cell_type": "code",
      "execution_count": 13,
      "metadata": {
        "colab": {
          "base_uri": "https://localhost:8080/"
        },
        "id": "SGtYM_85ypKc",
        "outputId": "42693ebd-9816-4e37-85c6-a9229d797cc6"
      },
      "outputs": [
        {
          "name": "stdout",
          "output_type": "stream",
          "text": [
            "['Product Management' 'Blockchain' 'Cyber Security, Data Science'\n",
            " '3D Animation Skills, Product Design'\n",
            " 'Mobile Application, Software Development']\n"
          ]
        }
      ],
      "source": [
        "print(y.unique())"
      ]
    },
    {
      "cell_type": "code",
      "execution_count": 14,
      "metadata": {
        "colab": {
          "base_uri": "https://localhost:8080/"
        },
        "id": "4wmMAU44FNhi",
        "outputId": "27a4a0df-472d-4fc2-a4d3-22501bf72de9"
      },
      "outputs": [
        {
          "name": "stdout",
          "output_type": "stream",
          "text": [
            "Encoding mapping for Mathematical Aptitude: {'Average': 0, 'Bad': 1, 'Excellent': 2}\n",
            "Encoding mapping for Logical Reasoning: {'Average': 0, 'Bad': 1, 'Excellent': 2}\n",
            "Encoding mapping for Openness: {'Not Open': 0, 'Open': 1, 'Somewhat Open': 2}\n",
            "Encoding mapping for Conscientiousness: {'Highly': 0, 'Moderate': 1, 'Not': 2}\n",
            "Encoding mapping for Emotional Stability: {'Calm': 0, 'Overwhelmed': 1, 'Pressured (Composed)': 2}\n",
            "Encoding mapping for Agreeableness/ Assertiveness: {'Cooperative': 0, 'In-Between': 1, 'Not Cooperative': 2}\n",
            "Encoding mapping for Creativity: {'Creative': 0, 'Highly Creative': 1, 'Not Creative': 2}\n",
            "Encoding mapping for Aptitude: {'Moderately Techincally Inclined': 0, 'Not Technically Inclined': 1, 'Technically Inclined': 2}\n",
            "Encoding mapping for Programming: {'Advanced': 0, 'Basic': 1, 'Intermediate': 2}\n",
            "Encoding mapping for Design Software: {'Highly Proficient': 0, 'Not Proficient': 1, 'Proficient': 2}\n",
            "Encoding mapping for 3D Skills: {'Highly Experienced': 0, 'Moderately Experienced': 1, 'Not Experienced': 2}\n",
            "Encoding mapping for Web Development Confidence: {'Highly Confident': 0, 'Moderately Confident': 1, 'Not Confident': 2}\n"
          ]
        }
      ],
      "source": [
        "# Encode each categorical column using LabelEncoder\n",
        "for col in X.columns:\n",
        "    if X[col].dtype == object:  # Check for object type (categorical data)\n",
        "        encoder = LabelEncoder()\n",
        "        X[col] = encoder.fit_transform(X[col])\n",
        "        #sanitize column name to remove spaces or slashes that could lead to error while saving\n",
        "        safe_col_name = col.replace(' ','_').replace('/','_').replace('\\\\','_').replace('-','_')\n",
        "        # Construct the file path using the get_filepath function for better compatibility\n",
        "        file_path = get_filepath(\"DATA\", f\"{safe_col_name}_encoder.joblib\")\n",
        "        # save each encoder with sanitized name\n",
        "        joblib.dump(encoder, file_path)\n",
        "\n",
        "        # Get encoding mapping for the current column\n",
        "        encoding_mapping = dict(zip(encoder.classes_, encoder.transform(encoder.classes_)))\n",
        "        print(f\"Encoding mapping for {col}: {encoding_mapping}\")\n"
      ]
    },
    {
      "cell_type": "code",
      "execution_count": 15,
      "metadata": {
        "id": "A8VaWSBoFSTR"
      },
      "outputs": [],
      "source": [
        "# Initialize RandomOverSampler\n",
        "oversampler = RandomOverSampler(random_state=42)\n",
        "\n",
        "# Resample the data\n",
        "X_resampled, y_resampled = oversampler.fit_resample(X, y)\n",
        "\n",
        "# Convert the resampled data back to DataFrame\n",
        "df_resampled = pd.DataFrame(X_resampled, columns=X.columns)\n",
        "df_resampled['Suggested Tracks'] = y_resampled"
      ]
    },
    {
      "cell_type": "code",
      "execution_count": 16,
      "metadata": {},
      "outputs": [],
      "source": [
        "# Split the dataset into training and testing sets\n",
        "X_train, X_test, y_train, y_test = train_test_split(df_resampled.drop(columns=['Suggested Tracks']), y_resampled, test_size=0.2, random_state=42)"
      ]
    },
    {
      "cell_type": "code",
      "execution_count": 48,
      "metadata": {},
      "outputs": [
        {
          "name": "stdout",
          "output_type": "stream",
          "text": [
            "Mathematical Aptitude           int64\n",
            "Logical Reasoning               int64\n",
            "Openness                        int64\n",
            "Conscientiousness               int64\n",
            "Emotional Stability             int64\n",
            "Agreeableness/ Assertiveness    int64\n",
            "Creativity                      int64\n",
            "Aptitude                        int64\n",
            "Programming                     int64\n",
            "Design Software                 int64\n",
            "3D Skills                       int64\n",
            "Web Development Confidence      int64\n",
            "dtype: object\n"
          ]
        }
      ],
      "source": [
        "print(X_train.dtypes)\n",
        "#print(y_train.dtypes)"
      ]
    },
    {
      "cell_type": "markdown",
      "metadata": {
        "id": "FnQs5C632SW4"
      },
      "source": [
        "# MODEL TRAINING"
      ]
    },
    {
      "cell_type": "markdown",
      "metadata": {
        "id": "16R2Y3cD2r32"
      },
      "source": [
        "# RANDOM FOREST"
      ]
    },
    {
      "cell_type": "code",
      "execution_count": 19,
      "metadata": {
        "id": "zqKff5_uFYId"
      },
      "outputs": [],
      "source": [
        "#initializing the model\n",
        "rfc = RandomForestClassifier()"
      ]
    },
    {
      "cell_type": "code",
      "execution_count": 20,
      "metadata": {
        "id": "CayGKqRtFYEs"
      },
      "outputs": [],
      "source": [
        "# Stating the parameters for hyperparameter tuning\n",
        "param_grid = {\n",
        "    'n_estimators': [150, 200, 300, 500],\n",
        "    'min_samples_split': [5, 10, 15],\n",
        "    'max_depth': [10, 13, 15, 17, 20],\n",
        "    'min_samples_leaf': [2, 4, 5, 6],\n",
        "    'criterion': ['gini', 'entropy'],\n",
        "}"
      ]
    },
    {
      "cell_type": "code",
      "execution_count": 21,
      "metadata": {
        "colab": {
          "base_uri": "https://localhost:8080/"
        },
        "id": "SmO4CadMFYCE",
        "outputId": "5717b392-c7f9-4c28-b72f-a3fa2b22f5c0"
      },
      "outputs": [
        {
          "name": "stdout",
          "output_type": "stream",
          "text": [
            "Best Random Forest Model Parameters: {'n_estimators': 150, 'min_samples_split': 5, 'min_samples_leaf': 2, 'max_depth': 10, 'criterion': 'entropy'}\n"
          ]
        }
      ],
      "source": [
        "# fitting the model to the data\n",
        "rf_grid_search = RandomizedSearchCV(RandomForestClassifier(),param_grid, cv=5)\n",
        "rf_grid_search.fit(X_train, y_train)\n",
        "\n",
        "# Using the best estimator to predict the test data\n",
        "rf_best_model = rf_grid_search.best_estimator_\n",
        "rf_predictions = rf_best_model.predict(X_test)\n",
        "\n",
        "#Printing the Best estimator and the Evaluation Matrix\n",
        "print(\"Best Random Forest Model Parameters:\", rf_grid_search.best_params_)\n"
      ]
    },
    {
      "cell_type": "code",
      "execution_count": 22,
      "metadata": {
        "colab": {
          "base_uri": "https://localhost:8080/"
        },
        "id": "weWHsrc8y7zg",
        "outputId": "bbeef54e-81fb-4963-bed4-df7a7744e90f"
      },
      "outputs": [
        {
          "name": "stdout",
          "output_type": "stream",
          "text": [
            "                                          precision    recall  f1-score   support\n",
            "\n",
            "     3D Animation Skills, Product Design       0.99      1.00      1.00       112\n",
            "                              Blockchain       1.00      0.90      0.95       110\n",
            "            Cyber Security, Data Science       0.94      1.00      0.97       112\n",
            "Mobile Application, Software Development       0.98      1.00      0.99       113\n",
            "                      Product Management       0.99      1.00      1.00       109\n",
            "\n",
            "                                accuracy                           0.98       556\n",
            "                               macro avg       0.98      0.98      0.98       556\n",
            "                            weighted avg       0.98      0.98      0.98       556\n",
            "\n"
          ]
        }
      ],
      "source": [
        "Classification_Report = classification_report(y_test, rf_predictions)\n",
        "print(Classification_Report)"
      ]
    },
    {
      "cell_type": "markdown",
      "metadata": {
        "id": "WmCXJNLU2x6C"
      },
      "source": [
        "# DECISION TREE"
      ]
    },
    {
      "cell_type": "code",
      "execution_count": 23,
      "metadata": {
        "id": "OvtuAyNdFX_E"
      },
      "outputs": [],
      "source": [
        "dtc = DecisionTreeClassifier()"
      ]
    },
    {
      "cell_type": "code",
      "execution_count": 24,
      "metadata": {
        "id": "qwJvwAdXFX7g"
      },
      "outputs": [],
      "source": [
        "param_grid = {\n",
        "    'min_samples_split': [5, 10, 15],\n",
        "    'max_depth': [10, 20, 30],\n",
        "    'min_samples_leaf': [1, 2, 4],\n",
        "    'criterion': ['gini', 'entropy'],\n",
        "}"
      ]
    },
    {
      "cell_type": "code",
      "execution_count": 25,
      "metadata": {
        "colab": {
          "base_uri": "https://localhost:8080/"
        },
        "id": "oWIHI1hGJTr5",
        "outputId": "8d69173d-f7f2-4ad3-edbf-f89c229d0971"
      },
      "outputs": [
        {
          "name": "stdout",
          "output_type": "stream",
          "text": [
            "Best Random Forest Model Parameters: {'min_samples_split': 5, 'min_samples_leaf': 1, 'max_depth': 20, 'criterion': 'entropy'}\n"
          ]
        }
      ],
      "source": [
        "dtc_grid_search = RandomizedSearchCV(DecisionTreeClassifier(),param_grid, cv=5)\n",
        "dtc_grid_search.fit(X_train, y_train)\n",
        "\n",
        "#Predicting the test data\n",
        "dtc_best_model = dtc_grid_search.best_estimator_\n",
        "dtc_predictions = dtc_best_model.predict(X_test)\n",
        "\n",
        "#Printing the Best estimator and the Evaluation Matrix\n",
        "print(\"Best Random Forest Model Parameters:\", dtc_grid_search.best_params_)"
      ]
    },
    {
      "cell_type": "code",
      "execution_count": 26,
      "metadata": {
        "colab": {
          "base_uri": "https://localhost:8080/"
        },
        "id": "hpR435n_zl4X",
        "outputId": "80d88dc0-d591-4df5-abb0-d48a8532d239"
      },
      "outputs": [
        {
          "name": "stdout",
          "output_type": "stream",
          "text": [
            "                                          precision    recall  f1-score   support\n",
            "\n",
            "     3D Animation Skills, Product Design       0.97      1.00      0.98       112\n",
            "                              Blockchain       1.00      0.89      0.94       110\n",
            "            Cyber Security, Data Science       0.96      1.00      0.98       112\n",
            "Mobile Application, Software Development       0.97      1.00      0.99       113\n",
            "                      Product Management       1.00      1.00      1.00       109\n",
            "\n",
            "                                accuracy                           0.98       556\n",
            "                               macro avg       0.98      0.98      0.98       556\n",
            "                            weighted avg       0.98      0.98      0.98       556\n",
            "\n"
          ]
        }
      ],
      "source": [
        "Classification_Report = classification_report(y_test, dtc_predictions)\n",
        "print(Classification_Report)"
      ]
    },
    {
      "cell_type": "markdown",
      "metadata": {
        "id": "EQLVjj-4229B"
      },
      "source": [
        "# KNN"
      ]
    },
    {
      "cell_type": "code",
      "execution_count": 27,
      "metadata": {
        "id": "lqtPZ1YiFX4M"
      },
      "outputs": [],
      "source": [
        "knn = KNeighborsClassifier()"
      ]
    },
    {
      "cell_type": "code",
      "execution_count": 28,
      "metadata": {
        "id": "jKo6RRHqFX1r"
      },
      "outputs": [],
      "source": [
        "param_grid = {\n",
        "    'n_neighbors': [3, 5, 7, 9, 11],\n",
        "    'weights': ['uniform', 'distance'],\n",
        "    'algorithm': ['auto', 'ball_tree', 'kd_tree', 'brute'],\n",
        "    'p': [1,2],\n",
        "}"
      ]
    },
    {
      "cell_type": "code",
      "execution_count": 29,
      "metadata": {
        "colab": {
          "base_uri": "https://localhost:8080/"
        },
        "id": "cyMMVJyMKw9F",
        "outputId": "bbf1a36d-f465-4f7a-c286-246feac321b0"
      },
      "outputs": [
        {
          "name": "stdout",
          "output_type": "stream",
          "text": [
            "Best Random Forest Model Parameters: {'weights': 'distance', 'p': 1, 'n_neighbors': 5, 'algorithm': 'brute'}\n"
          ]
        }
      ],
      "source": [
        "knn_grid_search = RandomizedSearchCV(KNeighborsClassifier(),param_grid, cv=5)\n",
        "knn_grid_search.fit(X_train, y_train)\n",
        "knn_best_model = knn_grid_search.best_estimator_\n",
        "knn_predictions = knn_best_model.predict(X_test)\n",
        "\n",
        "#Printing the Best estimator and the Evaluation Matrix\n",
        "print(\"Best Random Forest Model Parameters:\", knn_grid_search.best_params_)"
      ]
    },
    {
      "cell_type": "code",
      "execution_count": 30,
      "metadata": {
        "colab": {
          "base_uri": "https://localhost:8080/"
        },
        "id": "LvZbtv6mzrzn",
        "outputId": "b462a43f-2565-4f2c-8bc5-c4a2b3b8b40f"
      },
      "outputs": [
        {
          "name": "stdout",
          "output_type": "stream",
          "text": [
            "                                          precision    recall  f1-score   support\n",
            "\n",
            "     3D Animation Skills, Product Design       0.88      1.00      0.93       112\n",
            "                              Blockchain       0.98      0.53      0.69       110\n",
            "            Cyber Security, Data Science       0.90      1.00      0.95       112\n",
            "Mobile Application, Software Development       0.86      0.97      0.91       113\n",
            "                      Product Management       0.94      1.00      0.97       109\n",
            "\n",
            "                                accuracy                           0.90       556\n",
            "                               macro avg       0.91      0.90      0.89       556\n",
            "                            weighted avg       0.91      0.90      0.89       556\n",
            "\n"
          ]
        }
      ],
      "source": [
        "Classification_Report = classification_report(y_test, knn_predictions)\n",
        "print(Classification_Report)"
      ]
    },
    {
      "cell_type": "markdown",
      "metadata": {
        "id": "WkA2oszV25us"
      },
      "source": [
        "# SVM"
      ]
    },
    {
      "cell_type": "code",
      "execution_count": 31,
      "metadata": {
        "id": "du8A4aq5FXy3"
      },
      "outputs": [],
      "source": [
        "svm = SVC()"
      ]
    },
    {
      "cell_type": "code",
      "execution_count": 32,
      "metadata": {
        "id": "4RxOY-jvGd6_"
      },
      "outputs": [],
      "source": [
        "param_grid = {\n",
        "    'C': [100,10, 1.0, 0.1, 0.001, 0.001],\n",
        "    'kernel':['linear', 'poly', 'rbf', 'sigmoid'],\n",
        "}"
      ]
    },
    {
      "cell_type": "code",
      "execution_count": 33,
      "metadata": {
        "colab": {
          "base_uri": "https://localhost:8080/"
        },
        "id": "jMbfe0t9LNwm",
        "outputId": "65b8602f-ad3f-4683-8c65-914b1e7afb40"
      },
      "outputs": [
        {
          "name": "stdout",
          "output_type": "stream",
          "text": [
            "Best Random Forest Model Parameters: {'kernel': 'rbf', 'C': 10}\n"
          ]
        }
      ],
      "source": [
        "svm_grid_search = RandomizedSearchCV(SVC(),param_grid, cv=5)\n",
        "svm_grid_search.fit(X_train, y_train)\n",
        "svm_best_model = svm_grid_search.best_estimator_\n",
        "svm_predictions = svm_best_model.predict(X_test)\n",
        "\n",
        "#Printing the Best estimator and the Evaluation Matrix\n",
        "print(\"Best Random Forest Model Parameters:\", svm_grid_search.best_params_)"
      ]
    },
    {
      "cell_type": "code",
      "execution_count": 34,
      "metadata": {
        "colab": {
          "base_uri": "https://localhost:8080/"
        },
        "id": "fn1DF1Vjz09R",
        "outputId": "8456d12c-9008-4f18-b216-7324789fb99c"
      },
      "outputs": [
        {
          "name": "stdout",
          "output_type": "stream",
          "text": [
            "                                          precision    recall  f1-score   support\n",
            "\n",
            "     3D Animation Skills, Product Design       0.98      1.00      0.99       112\n",
            "                              Blockchain       1.00      0.93      0.96       110\n",
            "            Cyber Security, Data Science       0.97      1.00      0.98       112\n",
            "Mobile Application, Software Development       0.98      0.99      0.99       113\n",
            "                      Product Management       0.99      1.00      1.00       109\n",
            "\n",
            "                                accuracy                           0.98       556\n",
            "                               macro avg       0.98      0.98      0.98       556\n",
            "                            weighted avg       0.98      0.98      0.98       556\n",
            "\n"
          ]
        }
      ],
      "source": [
        "Classification_Report = classification_report(y_test, svm_predictions)\n",
        "print(Classification_Report)"
      ]
    },
    {
      "cell_type": "markdown",
      "metadata": {
        "id": "tY1FVMDz275J"
      },
      "source": [
        "# LOGISTIC REGRESSION"
      ]
    },
    {
      "cell_type": "code",
      "execution_count": 35,
      "metadata": {
        "id": "utT0batUGdll"
      },
      "outputs": [],
      "source": [
        "lr = LogisticRegression()"
      ]
    },
    {
      "cell_type": "code",
      "execution_count": 36,
      "metadata": {
        "id": "cA26WRZwMGtn"
      },
      "outputs": [],
      "source": [
        "param_grid = {\n",
        "    'C': [100,10, 1.0, 0.1, 0.001, 0.001],\n",
        "}"
      ]
    },
    {
      "cell_type": "code",
      "execution_count": 37,
      "metadata": {
        "colab": {
          "base_uri": "https://localhost:8080/"
        },
        "id": "1eRs11e0Lki4",
        "outputId": "337fe973-ccbc-4473-aa14-87b525596018"
      },
      "outputs": [
        {
          "name": "stderr",
          "output_type": "stream",
          "text": [
            "/home/codeibinabo/anaconda3/lib/python3.11/site-packages/sklearn/model_selection/_search.py:305: UserWarning: The total space of parameters 6 is smaller than n_iter=10. Running 6 iterations. For exhaustive searches, use GridSearchCV.\n",
            "  warnings.warn(\n",
            "/home/codeibinabo/anaconda3/lib/python3.11/site-packages/sklearn/linear_model/_logistic.py:458: ConvergenceWarning: lbfgs failed to converge (status=1):\n",
            "STOP: TOTAL NO. of ITERATIONS REACHED LIMIT.\n",
            "\n",
            "Increase the number of iterations (max_iter) or scale the data as shown in:\n",
            "    https://scikit-learn.org/stable/modules/preprocessing.html\n",
            "Please also refer to the documentation for alternative solver options:\n",
            "    https://scikit-learn.org/stable/modules/linear_model.html#logistic-regression\n",
            "  n_iter_i = _check_optimize_result(\n",
            "/home/codeibinabo/anaconda3/lib/python3.11/site-packages/sklearn/linear_model/_logistic.py:458: ConvergenceWarning: lbfgs failed to converge (status=1):\n",
            "STOP: TOTAL NO. of ITERATIONS REACHED LIMIT.\n",
            "\n",
            "Increase the number of iterations (max_iter) or scale the data as shown in:\n",
            "    https://scikit-learn.org/stable/modules/preprocessing.html\n",
            "Please also refer to the documentation for alternative solver options:\n",
            "    https://scikit-learn.org/stable/modules/linear_model.html#logistic-regression\n",
            "  n_iter_i = _check_optimize_result(\n",
            "/home/codeibinabo/anaconda3/lib/python3.11/site-packages/sklearn/linear_model/_logistic.py:458: ConvergenceWarning: lbfgs failed to converge (status=1):\n",
            "STOP: TOTAL NO. of ITERATIONS REACHED LIMIT.\n",
            "\n",
            "Increase the number of iterations (max_iter) or scale the data as shown in:\n",
            "    https://scikit-learn.org/stable/modules/preprocessing.html\n",
            "Please also refer to the documentation for alternative solver options:\n",
            "    https://scikit-learn.org/stable/modules/linear_model.html#logistic-regression\n",
            "  n_iter_i = _check_optimize_result(\n",
            "/home/codeibinabo/anaconda3/lib/python3.11/site-packages/sklearn/linear_model/_logistic.py:458: ConvergenceWarning: lbfgs failed to converge (status=1):\n",
            "STOP: TOTAL NO. of ITERATIONS REACHED LIMIT.\n",
            "\n",
            "Increase the number of iterations (max_iter) or scale the data as shown in:\n",
            "    https://scikit-learn.org/stable/modules/preprocessing.html\n",
            "Please also refer to the documentation for alternative solver options:\n",
            "    https://scikit-learn.org/stable/modules/linear_model.html#logistic-regression\n",
            "  n_iter_i = _check_optimize_result(\n",
            "/home/codeibinabo/anaconda3/lib/python3.11/site-packages/sklearn/linear_model/_logistic.py:458: ConvergenceWarning: lbfgs failed to converge (status=1):\n",
            "STOP: TOTAL NO. of ITERATIONS REACHED LIMIT.\n",
            "\n",
            "Increase the number of iterations (max_iter) or scale the data as shown in:\n",
            "    https://scikit-learn.org/stable/modules/preprocessing.html\n",
            "Please also refer to the documentation for alternative solver options:\n",
            "    https://scikit-learn.org/stable/modules/linear_model.html#logistic-regression\n",
            "  n_iter_i = _check_optimize_result(\n",
            "/home/codeibinabo/anaconda3/lib/python3.11/site-packages/sklearn/linear_model/_logistic.py:458: ConvergenceWarning: lbfgs failed to converge (status=1):\n",
            "STOP: TOTAL NO. of ITERATIONS REACHED LIMIT.\n",
            "\n",
            "Increase the number of iterations (max_iter) or scale the data as shown in:\n",
            "    https://scikit-learn.org/stable/modules/preprocessing.html\n",
            "Please also refer to the documentation for alternative solver options:\n",
            "    https://scikit-learn.org/stable/modules/linear_model.html#logistic-regression\n",
            "  n_iter_i = _check_optimize_result(\n",
            "/home/codeibinabo/anaconda3/lib/python3.11/site-packages/sklearn/linear_model/_logistic.py:458: ConvergenceWarning: lbfgs failed to converge (status=1):\n",
            "STOP: TOTAL NO. of ITERATIONS REACHED LIMIT.\n",
            "\n",
            "Increase the number of iterations (max_iter) or scale the data as shown in:\n",
            "    https://scikit-learn.org/stable/modules/preprocessing.html\n",
            "Please also refer to the documentation for alternative solver options:\n",
            "    https://scikit-learn.org/stable/modules/linear_model.html#logistic-regression\n",
            "  n_iter_i = _check_optimize_result(\n",
            "/home/codeibinabo/anaconda3/lib/python3.11/site-packages/sklearn/linear_model/_logistic.py:458: ConvergenceWarning: lbfgs failed to converge (status=1):\n",
            "STOP: TOTAL NO. of ITERATIONS REACHED LIMIT.\n",
            "\n",
            "Increase the number of iterations (max_iter) or scale the data as shown in:\n",
            "    https://scikit-learn.org/stable/modules/preprocessing.html\n",
            "Please also refer to the documentation for alternative solver options:\n",
            "    https://scikit-learn.org/stable/modules/linear_model.html#logistic-regression\n",
            "  n_iter_i = _check_optimize_result(\n",
            "/home/codeibinabo/anaconda3/lib/python3.11/site-packages/sklearn/linear_model/_logistic.py:458: ConvergenceWarning: lbfgs failed to converge (status=1):\n",
            "STOP: TOTAL NO. of ITERATIONS REACHED LIMIT.\n",
            "\n",
            "Increase the number of iterations (max_iter) or scale the data as shown in:\n",
            "    https://scikit-learn.org/stable/modules/preprocessing.html\n",
            "Please also refer to the documentation for alternative solver options:\n",
            "    https://scikit-learn.org/stable/modules/linear_model.html#logistic-regression\n",
            "  n_iter_i = _check_optimize_result(\n"
          ]
        },
        {
          "name": "stdout",
          "output_type": "stream",
          "text": [
            "Best Random Forest Model Parameters: {'C': 0.1}\n"
          ]
        }
      ],
      "source": [
        "lr_grid_search = RandomizedSearchCV(LogisticRegression(),param_grid, cv=5)\n",
        "lr_grid_search.fit(X_train, y_train)\n",
        "lr_best_model = lr_grid_search.best_estimator_\n",
        "lr_predictions = lr_best_model.predict(X_test)\n",
        "\n",
        "#Printing the Best estimator and the Evaluation Matrix\n",
        "print(\"Best Random Forest Model Parameters:\", lr_grid_search.best_params_)"
      ]
    },
    {
      "cell_type": "code",
      "execution_count": 38,
      "metadata": {
        "colab": {
          "base_uri": "https://localhost:8080/"
        },
        "id": "EyMZK09Pz-9w",
        "outputId": "ad1d9449-8849-4c6f-ff77-352d557b353b"
      },
      "outputs": [
        {
          "name": "stdout",
          "output_type": "stream",
          "text": [
            "                                          precision    recall  f1-score   support\n",
            "\n",
            "     3D Animation Skills, Product Design       0.44      0.24      0.31       112\n",
            "                              Blockchain       0.28      0.09      0.14       110\n",
            "            Cyber Security, Data Science       0.61      0.89      0.72       112\n",
            "Mobile Application, Software Development       0.48      0.45      0.47       113\n",
            "                      Product Management       0.53      0.91      0.67       109\n",
            "\n",
            "                                accuracy                           0.52       556\n",
            "                               macro avg       0.47      0.52      0.46       556\n",
            "                            weighted avg       0.47      0.52      0.46       556\n",
            "\n"
          ]
        }
      ],
      "source": [
        "Classification_Report = classification_report(y_test, lr_predictions)\n",
        "print(Classification_Report)"
      ]
    },
    {
      "cell_type": "markdown",
      "metadata": {
        "id": "QmtZXXEY2a-v"
      },
      "source": [
        "# NAIVE BAYES"
      ]
    },
    {
      "cell_type": "code",
      "execution_count": 39,
      "metadata": {
        "id": "KukkLyDh1fdo"
      },
      "outputs": [],
      "source": [
        "# Train Naive Bayes (Multinomial) Classifier\n",
        "nb_clf = MultinomialNB()"
      ]
    },
    {
      "cell_type": "code",
      "execution_count": 40,
      "metadata": {
        "id": "nS_xUsl71fvw"
      },
      "outputs": [],
      "source": [
        "\n",
        "# Naive Bayes (Multinomial) Classifier hyperparameters grid\n",
        "nb_param_grid = {'alpha': [0.1, 1, 10], 'fit_prior': [True, False]}"
      ]
    },
    {
      "cell_type": "code",
      "execution_count": 41,
      "metadata": {
        "colab": {
          "base_uri": "https://localhost:8080/"
        },
        "id": "Ko88i-4R1f6N",
        "outputId": "d959399e-7325-4cbb-94e1-1c5dd9b34e31"
      },
      "outputs": [
        {
          "name": "stderr",
          "output_type": "stream",
          "text": [
            "/home/codeibinabo/anaconda3/lib/python3.11/site-packages/sklearn/model_selection/_search.py:305: UserWarning: The total space of parameters 6 is smaller than n_iter=10. Running 6 iterations. For exhaustive searches, use GridSearchCV.\n",
            "  warnings.warn(\n"
          ]
        },
        {
          "name": "stdout",
          "output_type": "stream",
          "text": [
            "Best Naive Bayes (Multinomial) Model Parameters: {'fit_prior': True, 'alpha': 10}\n"
          ]
        }
      ],
      "source": [
        "\n",
        "# Perform GridSearchCV for Naive Bayes (Multinomial)\n",
        "nb_grid_search = RandomizedSearchCV(MultinomialNB(), nb_param_grid, cv=5)\n",
        "nb_grid_search.fit(X_train, y_train)\n",
        "\n",
        "nb_best_model = nb_grid_search.best_estimator_\n",
        "nb_predictions = nb_best_model.predict(X_test)\n",
        "\n",
        "print(\"Best Naive Bayes (Multinomial) Model Parameters:\", nb_grid_search.best_params_)"
      ]
    },
    {
      "cell_type": "code",
      "execution_count": 42,
      "metadata": {
        "colab": {
          "base_uri": "https://localhost:8080/"
        },
        "id": "zHJHT3vY1tkJ",
        "outputId": "361dc069-e913-421a-ad09-a796da1e4e7e"
      },
      "outputs": [
        {
          "name": "stdout",
          "output_type": "stream",
          "text": [
            "                                          precision    recall  f1-score   support\n",
            "\n",
            "     3D Animation Skills, Product Design       0.40      0.25      0.31       112\n",
            "                              Blockchain       0.18      0.05      0.07       110\n",
            "            Cyber Security, Data Science       0.57      0.92      0.71       112\n",
            "Mobile Application, Software Development       0.47      0.42      0.44       113\n",
            "                      Product Management       0.48      0.77      0.59       109\n",
            "\n",
            "                                accuracy                           0.48       556\n",
            "                               macro avg       0.42      0.48      0.42       556\n",
            "                            weighted avg       0.42      0.48      0.42       556\n",
            "\n"
          ]
        }
      ],
      "source": [
        "Classification_Report = classification_report(y_test, nb_predictions)\n",
        "print(Classification_Report)"
      ]
    },
    {
      "cell_type": "markdown",
      "metadata": {},
      "source": [
        "## ☄ **Model Deplyment**\n",
        "\n",
        "---\n",
        "\n",
        "Before deployment, the best model (Random Forest) will be serialized (saved) for export and deployment."
      ]
    },
    {
      "cell_type": "code",
      "execution_count": 44,
      "metadata": {},
      "outputs": [
        {
          "data": {
            "text/plain": [
              "['DATA/rf_best_model.joblib']"
            ]
          },
          "execution_count": 44,
          "metadata": {},
          "output_type": "execute_result"
        }
      ],
      "source": [
        "# #serializing and saving the best model\n",
        "\n",
        " # Construct the path to the file\n",
        "file_path = os.path.join('DATA', 'rf_best_model.joblib')\n",
        "\n",
        "# Save the best RandomForest model to a file\n",
        "dump(rf_best_model, file_path)"
      ]
    }
  ],
  "metadata": {
    "colab": {
      "provenance": []
    },
    "kernelspec": {
      "display_name": "Python 3 (ipykernel)",
      "language": "python",
      "name": "python3"
    },
    "language_info": {
      "codemirror_mode": {
        "name": "ipython",
        "version": 3
      },
      "file_extension": ".py",
      "mimetype": "text/x-python",
      "name": "python",
      "nbconvert_exporter": "python",
      "pygments_lexer": "ipython3",
      "version": "3.11.7"
    }
  },
  "nbformat": 4,
  "nbformat_minor": 0
}
